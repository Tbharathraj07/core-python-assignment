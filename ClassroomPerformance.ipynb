{
  "nbformat": 4,
  "nbformat_minor": 0,
  "metadata": {
    "colab": {
      "provenance": []
    },
    "kernelspec": {
      "name": "python3",
      "display_name": "Python 3"
    },
    "language_info": {
      "name": "python"
    }
  },
  "cells": [
    {
      "cell_type": "code",
      "execution_count": 1,
      "metadata": {
        "colab": {
          "base_uri": "https://localhost:8080/"
        },
        "id": "suXp_U2LvkiL",
        "outputId": "3a7acffc-377f-4425-fa17-ba196be2efdf"
      },
      "outputs": [
        {
          "output_type": "stream",
          "name": "stdout",
          "text": [
            "Average Marks: {'John': 85.0, 'Alice': 87.33, 'Bob': 75.0}\n",
            "Top Performer: Alice\n"
          ]
        }
      ],
      "source": [
        "# Classroom Performance Tracker\n",
        "def calculate_averages(students):\n",
        "    averages = {}\n",
        "    for name, marks in students.items():\n",
        "        avg = sum(marks) / len(marks)\n",
        "        averages[name] = round(avg, 2)\n",
        "    return averages\n",
        "def find_top_performer(averages):\n",
        "    return max(averages, key=averages.get)\n",
        "\n",
        "students = {\n",
        "    \"John\": [85, 78, 92],\n",
        "    \"Alice\": [88, 79, 95],\n",
        "    \"Bob\": [70, 75, 80]\n",
        "}\n",
        "averages = calculate_averages(students)\n",
        "top_student = find_top_performer(averages)\n",
        "\n",
        "print(\"Average Marks:\", averages)\n",
        "print(\"Top Performer:\", top_student)"
      ]
    }
  ]
}